{
 "cells": [
  {
   "cell_type": "code",
   "execution_count": 11,
   "metadata": {},
   "outputs": [
    {
     "name": "stdout",
     "output_type": "stream",
     "text": [
      "Requirement already satisfied: pyspark in c:\\users\\asus\\documents\\bigdata\\venv_bigdata\\lib\\site-packages (3.5.3)Note: you may need to restart the kernel to use updated packages.\n"
     ]
    },
    {
     "name": "stderr",
     "output_type": "stream",
     "text": [
      "\n",
      "[notice] A new release of pip available: 22.3 -> 24.2\n",
      "[notice] To update, run: python.exe -m pip install --upgrade pip\n"
     ]
    },
    {
     "name": "stdout",
     "output_type": "stream",
     "text": [
      "\n",
      "Requirement already satisfied: py4j==0.10.9.7 in c:\\users\\asus\\documents\\bigdata\\venv_bigdata\\lib\\site-packages (from pyspark) (0.10.9.7)\n",
      "Requirement already satisfied: pandas in c:\\users\\asus\\documents\\bigdata\\venv_bigdata\\lib\\site-packages (2.2.3)\n",
      "Requirement already satisfied: numpy>=1.23.2 in c:\\users\\asus\\documents\\bigdata\\venv_bigdata\\lib\\site-packages (from pandas) (2.1.2)\n",
      "Requirement already satisfied: python-dateutil>=2.8.2 in c:\\users\\asus\\documents\\bigdata\\venv_bigdata\\lib\\site-packages (from pandas) (2.9.0.post0)\n",
      "Requirement already satisfied: pytz>=2020.1 in c:\\users\\asus\\documents\\bigdata\\venv_bigdata\\lib\\site-packages (from pandas) (2024.2)\n",
      "Requirement already satisfied: tzdata>=2022.7 in c:\\users\\asus\\documents\\bigdata\\venv_bigdata\\lib\\site-packages (from pandas) (2024.2)\n",
      "Requirement already satisfied: six>=1.5 in c:\\users\\asus\\documents\\bigdata\\venv_bigdata\\lib\\site-packages (from python-dateutil>=2.8.2->pandas) (1.16.0)\n",
      "Note: you may need to restart the kernel to use updated packages.\n"
     ]
    },
    {
     "name": "stderr",
     "output_type": "stream",
     "text": [
      "\n",
      "[notice] A new release of pip available: 22.3 -> 24.2\n",
      "[notice] To update, run: python.exe -m pip install --upgrade pip\n"
     ]
    },
    {
     "name": "stdout",
     "output_type": "stream",
     "text": [
      "Requirement already satisfied: openpyxl in c:\\users\\asus\\documents\\bigdata\\venv_bigdata\\lib\\site-packages (3.1.5)\n",
      "Requirement already satisfied: et-xmlfile in c:\\users\\asus\\documents\\bigdata\\venv_bigdata\\lib\\site-packages (from openpyxl) (1.1.0)\n",
      "Note: you may need to restart the kernel to use updated packages.\n"
     ]
    },
    {
     "name": "stderr",
     "output_type": "stream",
     "text": [
      "\n",
      "[notice] A new release of pip available: 22.3 -> 24.2\n",
      "[notice] To update, run: python.exe -m pip install --upgrade pip\n"
     ]
    }
   ],
   "source": [
    "%pip install pyspark\n",
    "%pip install pandas\n",
    "%pip install openpyxl"
   ]
  },
  {
   "cell_type": "code",
   "execution_count": 12,
   "metadata": {},
   "outputs": [],
   "source": [
    "from pyspark.sql import SparkSession\n",
    "import pyspark.sql.functions as sf\n",
    "import fitz"
   ]
  },
  {
   "cell_type": "code",
   "execution_count": 13,
   "metadata": {},
   "outputs": [],
   "source": [
    "spark = SparkSession.builder \\\n",
    "    .appName(\"Read PDF and Word Count\") \\\n",
    "    .getOrCreate()"
   ]
  },
  {
   "cell_type": "code",
   "execution_count": 32,
   "metadata": {},
   "outputs": [],
   "source": [
    "textFile1 = spark.read.text(\"Anies Cak Imin Visi Misi.txt\")"
   ]
  },
  {
   "cell_type": "code",
   "execution_count": 33,
   "metadata": {},
   "outputs": [
    {
     "data": {
      "text/plain": [
       "DataFrame[value: string]"
      ]
     },
     "execution_count": 33,
     "metadata": {},
     "output_type": "execute_result"
    }
   ],
   "source": [
    "textFile1"
   ]
  },
  {
   "cell_type": "code",
   "execution_count": 34,
   "metadata": {},
   "outputs": [],
   "source": [
    "textFile2 = spark.read.text(\"PRABOWOGIBRAN_VISI_MISI.txt\")"
   ]
  },
  {
   "cell_type": "code",
   "execution_count": 35,
   "metadata": {},
   "outputs": [
    {
     "data": {
      "text/plain": [
       "DataFrame[value: string]"
      ]
     },
     "execution_count": 35,
     "metadata": {},
     "output_type": "execute_result"
    }
   ],
   "source": [
    "textFile2"
   ]
  },
  {
   "cell_type": "code",
   "execution_count": 36,
   "metadata": {},
   "outputs": [],
   "source": [
    "textFile3 = spark.read.text(\"1242-visi-misi-ganjar-pranowo-mahfud-md.txt\")"
   ]
  },
  {
   "cell_type": "code",
   "execution_count": 37,
   "metadata": {},
   "outputs": [
    {
     "data": {
      "text/plain": [
       "DataFrame[value: string]"
      ]
     },
     "execution_count": 37,
     "metadata": {},
     "output_type": "execute_result"
    }
   ],
   "source": [
    "textFile3"
   ]
  },
  {
   "cell_type": "code",
   "execution_count": 42,
   "metadata": {},
   "outputs": [
    {
     "name": "stdout",
     "output_type": "stream",
     "text": [
      "Total words in file 1: 357\n",
      "Total words in file 2: 206\n",
      "Total words in file 3: 104\n"
     ]
    }
   ],
   "source": [
    "# Fungsi untuk menghitung total jumlah kata dalam sebuah file\n",
    "def totalWordCount(textFile):\n",
    "    return (\n",
    "        textFile\n",
    "        .select(sf.explode(sf.split(sf.lower(textFile.value), r\"\\s+\")).alias(\"word\"))\n",
    "        .filter(\n",
    "            (sf.col(\"word\") == \"ekonomi\") |\n",
    "            (sf.col(\"word\") == \"pendidikan\") |\n",
    "            (sf.col(\"word\") == \"kesehatan\") |\n",
    "            (sf.col(\"word\") == \"kemandirian\") |\n",
    "            (sf.col(\"word\") == \"kesejahteraan\") |\n",
    "            (sf.col(\"word\") == \"keberlanjutan\") |\n",
    "            (sf.col(\"word\") == \"inovasi\") |\n",
    "            (sf.col(\"word\") == \"pemberdayaan\") |\n",
    "            (sf.col(\"word\") == \"transparansi\") |\n",
    "            (sf.col(\"word\") == \"perubahan\")\n",
    "        )\n",
    "        .groupBy(\"word\")\n",
    "        .count()\n",
    "        .agg(sf.sum(\"count\").alias(\"total_count\"))\n",
    "    )\n",
    "\n",
    "# Menghitung total kata dari textFile1, textFile2, dan textFile3\n",
    "totalWords1 = totalWordCount(textFile1).collect()[0][\"total_count\"]\n",
    "totalWords2 = totalWordCount(textFile2).collect()[0][\"total_count\"]\n",
    "totalWords3 = totalWordCount(textFile3).collect()[0][\"total_count\"]\n",
    "\n",
    "# Menampilkan total kata setiap file\n",
    "print(f\"Total words in file 1: {totalWords1}\")\n",
    "print(f\"Total words in file 2: {totalWords2}\")\n",
    "print(f\"Total words in file 3: {totalWords3}\")"
   ]
  },
  {
   "cell_type": "code",
   "execution_count": 38,
   "metadata": {},
   "outputs": [],
   "source": [
    "from pyspark.sql import functions as sf\n",
    "\n",
    "# Fungsi untuk menghitung jumlah kata dari sebuah file\n",
    "def countWords(textFile):\n",
    "    return (\n",
    "        textFile\n",
    "        .select(sf.explode(sf.split(sf.lower(textFile.value), r\"\\s+\")).alias(\"word\"))\n",
    "        .filter(\n",
    "            (sf.col(\"word\") == \"ekonomi\") |\n",
    "            (sf.col(\"word\") == \"pendidikan\") |\n",
    "            (sf.col(\"word\") == \"kesehatan\") |\n",
    "            (sf.col(\"word\") == \"kemandirian\") |\n",
    "            (sf.col(\"word\") == \"kesejahteraan\") |\n",
    "            (sf.col(\"word\") == \"keberlanjutan\") |\n",
    "            (sf.col(\"word\") == \"inovasi\") |\n",
    "            (sf.col(\"word\") == \"pemberdayaan\") |\n",
    "            (sf.col(\"word\") == \"transparansi\") |\n",
    "            (sf.col(\"word\") == \"perubahan\")\n",
    "        )\n",
    "        .groupBy(\"word\")\n",
    "        .count()\n",
    "    )"
   ]
  },
  {
   "cell_type": "code",
   "execution_count": 39,
   "metadata": {},
   "outputs": [
    {
     "name": "stdout",
     "output_type": "stream",
     "text": [
      "+-------------+------+------+------+\n",
      "|         word|count1|count2|count3|\n",
      "+-------------+------+------+------+\n",
      "|      ekonomi|    96|    91|    45|\n",
      "|      inovasi|    14|    10|    15|\n",
      "|keberlanjutan|     5|    12|     0|\n",
      "|  kemandirian|    12|    12|     3|\n",
      "|    kesehatan|    73|    28|    16|\n",
      "|kesejahteraan|    42|    18|    14|\n",
      "| pemberdayaan|    12|     6|     0|\n",
      "|   pendidikan|    74|    24|     7|\n",
      "|    perubahan|    28|     5|     4|\n",
      "| transparansi|     1|     0|     0|\n",
      "+-------------+------+------+------+\n",
      "\n"
     ]
    }
   ],
   "source": [
    "# Menghitung jumlah kata dari textFile1, textFile2, dan textFile3\n",
    "wordCounts1 = countWords(textFile1).withColumnRenamed(\"count\", \"count1\")\n",
    "wordCounts2 = countWords(textFile2).withColumnRenamed(\"count\", \"count2\")\n",
    "wordCounts3 = countWords(textFile3).withColumnRenamed(\"count\", \"count3\")\n",
    "\n",
    "# Menggabungkan hasil dari ketiga file berdasarkan kolom 'word'\n",
    "combinedWordCounts = (\n",
    "    wordCounts1\n",
    "    .join(wordCounts2, \"word\", \"outer\")\n",
    "    .join(wordCounts3, \"word\", \"outer\")\n",
    "    .na.fill(0)  # Mengisi nilai kosong dengan 0 jika kata tidak ditemukan di file tertentu\n",
    ")\n",
    "\n",
    "# Menampilkan hasil\n",
    "combinedWordCounts.show()"
   ]
  }
 ],
 "metadata": {
  "kernelspec": {
   "display_name": "venv_bigdata",
   "language": "python",
   "name": "python3"
  },
  "language_info": {
   "codemirror_mode": {
    "name": "ipython",
    "version": 3
   },
   "file_extension": ".py",
   "mimetype": "text/x-python",
   "name": "python",
   "nbconvert_exporter": "python",
   "pygments_lexer": "ipython3",
   "version": "3.11.0"
  }
 },
 "nbformat": 4,
 "nbformat_minor": 2
}
